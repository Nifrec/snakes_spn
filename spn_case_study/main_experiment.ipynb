{
 "cells": [
  {
   "cell_type": "markdown",
   "metadata": {},
   "source": [
    "**Author**: Lulof Pirée\n",
    "\n",
    "**Date**: June 2022\n",
    "\n",
    "--------------------------------------------------------------------------------\n",
    "Copyright (C) 2022 Lulof Pirée\n",
    "\n",
    "This file is part of the snakes_spn program.\n",
    "\n",
    "This program is free software:\n",
    "you can redistribute it and/or modify it under the terms\n",
    "of the GNU General Public License as published by the Free Software Foundation,\n",
    "either version 3 of the License, or (at your option) any later version.\n",
    "\n",
    "This program is distributed in the hope that it will be useful,\n",
    "but WITHOUT ANY WARRANTY;\n",
    "without even the implied warranty of MERCHANTABILITY\n",
    "or FITNESS FOR A PARTICULAR PURPOSE.\n",
    "See the GNU General Public License for more details.\n",
    "\n",
    "You should have received a copy of the GNU General Public License\n",
    "along with this program.\n",
    "If not, see <https://www.gnu.org/licenses/>.\n",
    "\n",
    "--------------------------------------------------------------------------------\n",
    "## File content\n",
    "Main experiment: influence of the following variables\n",
    "on the amount of inflammation-repression:\n",
    "* $x_1$: Initial concentration (amount of tokens) of GbPdn.\n",
    "* $x_2$: Rate constant of GbPdn cleaving ($GbPdn+Gba2 \\rightarrow Pdn + Gba2$).\n",
    "* $x_3$: Rate constant of Gr* unbinding ($Gr^* \\rightarrow Gr + Pdn$).\n",
    "* $x_4$: Rate constant of GrGbPdn unbinding ($GrGbPdn \\rightarrow Gr + GbPdn$)."
   ]
  },
  {
   "cell_type": "code",
   "execution_count": 1,
   "metadata": {},
   "outputs": [],
   "source": [
    "import os\n",
    "import matplotlib.pyplot as plt\n",
    "from matplotlib.axes import Axes\n",
    "from scipy import stats\n",
    "import math\n",
    "from numbers import Number\n",
    "\n",
    "from spn_case_study.launch_experiment import (\n",
    "    setup_init_markings_all_choices, setup_rates_all_choices)\n",
    "from spn_case_study.run_grid_search import run_experiment\n",
    "from spn_case_study.petrinet import PLACES, VARS, TRANS, TRANS_TO_PLACES\n",
    "from spn_tools.run_simulation import (plot_results, load_log,\n",
    "    aggregate_dataset_in_timeboxes)\n",
    "import numpy as np"
   ]
  },
  {
   "cell_type": "markdown",
   "metadata": {},
   "source": [
    "## Constants"
   ]
  },
  {
   "cell_type": "code",
   "execution_count": 2,
   "metadata": {},
   "outputs": [],
   "source": [
    "INIT_TOKEN_COUNT = 1000\n",
    "# Amount of independent repetitions per parameter setup\n",
    "NUM_REPETITIONS = 50\n",
    "\n",
    "# Maximum of discrete transition-firings per simulation run\n",
    "MAX_NUM_TRANSITIONS = 10000\n",
    "# Maximum amount of simulated time passed before simulation is terminated\n",
    "MAX_TIME_PASSED = 0.005"
   ]
  },
  {
   "cell_type": "markdown",
   "metadata": {},
   "source": [
    "## Directory structure\n",
    "\n",
    "All files should be saved into `main_exp_data`.\n",
    "This contains 3 subdirectories:\n",
    "* `const_unbind_rates`: for experiments that fix $x_3$ and $x_4$,\n",
    "    but try many different values for $x_1$ and $x_2$.\n",
    "    Contains, for each value $x_3 = CCCC$ \n",
    "    and each value of $x_4 = DDDD$\n",
    "    a subdirectory `x3_CCCC__x4_DDDD`.\n",
    "    Each such subdirecory contains a directory\n",
    "    for each variation of $x_1 = AAAA$ and $x_2 = BBBB$,\n",
    "    e.g., `x1_123e-4__x2_321e-2`.\n",
    "* `vary_unbind_rates`: same as `const_unbind_rates`,\n",
    "    but with $(x_3, x_4)$ swapped with $(x_1, x_2)$.\n",
    "* `baseline`: for the single experiment that has $x_1=x_2=x_3=x_4=0$.\n",
    "    Used an unrepressed inflammation baseline \n",
    "    to assess strength of inflammation-repression.\n",
    "\n",
    "```\n",
    "main_exp_data/\n",
    "\n",
    "    const_unbind_rates/\n",
    "        x3_CCCC__x4_DDDD/\n",
    "            x1_AAAA__x2_BBBB/\n",
    "                logs.json\n",
    "                hyperparameters.json\n",
    "            .../\n",
    "        .../\n",
    "\n",
    "    vary_unbind_rates/\n",
    "        x1_AAAA__x2_BBBB/\n",
    "            x3_CCCC__x4_DDDD/\n",
    "                logs.json\n",
    "                hyperparameters.json\n",
    "            .../\n",
    "        .../\n",
    "\n",
    "    baseline/\n",
    "        logs.json\n",
    "        hyperparameters.json\n",
    "```"
   ]
  },
  {
   "cell_type": "code",
   "execution_count": 3,
   "metadata": {},
   "outputs": [
    {
     "name": "stdout",
     "output_type": "stream",
     "text": [
      "Current directory: /home/nifrec/Vault/Documents/master_1/bio_modelling/model_ass/snakes_spn/spn_case_study\n"
     ]
    }
   ],
   "source": [
    "MAIN_DIR_NAME = \"main_exp_dir\"\n",
    "CONST_UNBIND_DIR_NAME = \"const_unbind_rates\"\n",
    "VARYING_UNBIND_DIR_NAME = \"vary_unbind_rates\"\n",
    "BASELINE_DIR_NAME = \"baseline\"\n",
    "\n",
    "# Notebooks usually set the cwd to the directory containing the notebook itself.\n",
    "print(f\"Current directory: {os.getcwd()}\")\n",
    "if \"main_experiment.ipynb\" in os.listdir(os.getcwd()):\n",
    "    MAIN_SAVE_DIR = os.path.join(os.getcwd(), MAIN_DIR_NAME)\n",
    "else:\n",
    "    raise RuntimeError(\"Wrong working directory.\")\n",
    "\n",
    "CONST_UNBIND_SAVE_DIR = os.path.join(MAIN_SAVE_DIR, CONST_UNBIND_DIR_NAME)\n",
    "VARYING_UNBIND_SAVE_DIR = os.path.join(MAIN_SAVE_DIR, VARYING_UNBIND_DIR_NAME)\n",
    "BASELINE_SAVE_DIR = os.path.join(MAIN_DIR_NAME, BASELINE_DIR_NAME)\n",
    "\n",
    "all_subdirs = [CONST_UNBIND_SAVE_DIR, VARYING_UNBIND_SAVE_DIR,\n",
    "                BASELINE_SAVE_DIR]\n",
    "for dir_name in all_subdirs:\n",
    "    if not os.path.exists(dir_name):\n",
    "        os.makedirs(dir_name)"
   ]
  },
  {
   "cell_type": "markdown",
   "metadata": {},
   "source": [
    "## Baseline experiment"
   ]
  },
  {
   "cell_type": "code",
   "execution_count": 4,
   "metadata": {},
   "outputs": [
    {
     "name": "stdout",
     "output_type": "stream",
     "text": [
      "Starting repeated experiment with 50 repetitions.\n",
      "Finished repetition 1/50\n",
      "Finished repetition 2/50\n",
      "Finished repetition 3/50\n",
      "Finished repetition 4/50\n",
      "Finished repetition 5/50\n",
      "Finished repetition 6/50\n",
      "Finished repetition 7/50\n",
      "Finished repetition 8/50\n",
      "Finished repetition 9/50\n",
      "Finished repetition 10/50\n",
      "Finished repetition 11/50\n",
      "Finished repetition 12/50\n",
      "Finished repetition 13/50\n",
      "Finished repetition 14/50\n",
      "Finished repetition 15/50\n",
      "Finished repetition 16/50\n",
      "Finished repetition 17/50\n",
      "Finished repetition 18/50\n",
      "Finished repetition 19/50\n",
      "Finished repetition 20/50\n",
      "Finished repetition 21/50\n",
      "Finished repetition 22/50\n",
      "Finished repetition 23/50\n",
      "Finished repetition 24/50\n",
      "Finished repetition 25/50\n",
      "Finished repetition 26/50\n",
      "Finished repetition 27/50\n",
      "Finished repetition 28/50\n",
      "Finished repetition 29/50\n",
      "Finished repetition 30/50\n",
      "Finished repetition 31/50\n",
      "Finished repetition 32/50\n",
      "Finished repetition 33/50\n",
      "Finished repetition 34/50\n",
      "Finished repetition 35/50\n",
      "Finished repetition 36/50\n",
      "Finished repetition 37/50\n",
      "Finished repetition 38/50\n",
      "Finished repetition 39/50\n",
      "Finished repetition 40/50\n",
      "Finished repetition 41/50\n",
      "Finished repetition 42/50\n",
      "Finished repetition 43/50\n",
      "Finished repetition 44/50\n",
      "Finished repetition 45/50\n",
      "Finished repetition 46/50\n",
      "Finished repetition 47/50\n",
      "Finished repetition 48/50\n",
      "Finished repetition 49/50\n",
      "Finished repetition 50/50\n",
      "All repetitions completed\n"
     ]
    }
   ],
   "source": [
    "def check_experiment_already_done(dirname: str) -> bool:\n",
    "    \"\"\"\n",
    "    Return whether is already a data-file of experimental data\n",
    "    (a `logs.json` file) in the given directory.\n",
    "    \"\"\"\n",
    "    dir_contents = os.listdir(dirname)\n",
    "    if \"logs.json\" in dir_contents:\n",
    "        print(\"Data for experiment '{dirname}' already exists.\")\n",
    "        return True\n",
    "    return False\n",
    "\n",
    "if not check_experiment_already_done(MAIN_SAVE_DIR):\n",
    "    init_markings = {name: (0,) for name in PLACES}\n",
    "    init_markings[\"neutrophil_free\"] = (INIT_TOKEN_COUNT,)\n",
    "    init_markings[\"infl_sig\"] = (INIT_TOKEN_COUNT,)\n",
    "\n",
    "    rates = {name : \"0\" for name in TRANS}\n",
    "    rates[\"recruit_neutrophil\"] = f\"{VARS['infl_sig']}*{VARS['neutrophil_free']}\"\n",
    "\n",
    "    run_experiment(rates, init_markings, MAIN_SAVE_DIR, NUM_REPETITIONS, \n",
    "                        max_steps=MAX_NUM_TRANSITIONS, max_time=MAX_TIME_PASSED)"
   ]
  },
  {
   "cell_type": "markdown",
   "metadata": {},
   "source": [
    "## First experiment: $x_3, x_4$ fixed\n",
    "\n",
    "Values to try:\n",
    "* $x_1 \\in [10, 100, 1000, 2000, 3000]$\n",
    "* $x_2 \\in [0.001, 0.01, 1, 10, 100]$"
   ]
  },
  {
   "cell_type": "code",
   "execution_count": null,
   "metadata": {},
   "outputs": [],
   "source": []
  }
 ],
 "metadata": {
  "interpreter": {
   "hash": "e7370f93d1d0cde622a1f8e1c04877d8463912d04d973331ad4851f04de6915a"
  },
  "kernelspec": {
   "display_name": "Python 3.10.4 64-bit",
   "language": "python",
   "name": "python3"
  },
  "language_info": {
   "codemirror_mode": {
    "name": "ipython",
    "version": 3
   },
   "file_extension": ".py",
   "mimetype": "text/x-python",
   "name": "python",
   "nbconvert_exporter": "python",
   "pygments_lexer": "ipython3",
   "version": "3.10.4"
  },
  "orig_nbformat": 4
 },
 "nbformat": 4,
 "nbformat_minor": 2
}
