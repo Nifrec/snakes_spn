{
 "cells": [
  {
   "cell_type": "markdown",
   "metadata": {},
   "source": [
    "**Author**: Lulof Pirée\n",
    "\n",
    "**Date**: June 2022\n",
    "\n",
    "--------------------------------------------------------------------------------\n",
    "Copyright (C) 2022 Lulof Pirée\n",
    "\n",
    "This file is part of the snakes_spn program.\n",
    "\n",
    "This program is free software:\n",
    "you can redistribute it and/or modify it under the terms\n",
    "of the GNU General Public License as published by the Free Software Foundation,\n",
    "either version 3 of the License, or (at your option) any later version.\n",
    "\n",
    "This program is distributed in the hope that it will be useful,\n",
    "but WITHOUT ANY WARRANTY;\n",
    "without even the implied warranty of MERCHANTABILITY\n",
    "or FITNESS FOR A PARTICULAR PURPOSE.\n",
    "See the GNU General Public License for more details.\n",
    "\n",
    "You should have received a copy of the GNU General Public License\n",
    "along with this program.\n",
    "If not, see <https://www.gnu.org/licenses/>.\n",
    "\n",
    "--------------------------------------------------------------------------------\n",
    "## File content\n",
    "Main experiment: influence of the following variables\n",
    "on the amount of inflammation-repression:\n",
    "* $x_1$: Initial concentration (amount of tokens) of GbPdn.\n",
    "* $x_2$: Rate constant of GbPdn cleaving ($GbPdn+Gba2 \\rightarrow Pdn + Gba2$).\n",
    "* $x_3$: Rate constant of Gr* unbinding ($Gr^* \\rightarrow Gr + Pdn$).\n",
    "* $x_4$: Rate constant of GrGbPdn unbinding ($GrGbPdn \\rightarrow Gr + GbPdn$)."
   ]
  },
  {
   "cell_type": "code",
   "execution_count": 1,
   "metadata": {},
   "outputs": [],
   "source": [
    "from typing import Sequence\n",
    "\n",
    "import os\n",
    "import matplotlib.pyplot as plt\n",
    "from matplotlib.axes import Axes\n",
    "from scipy import stats\n",
    "import math\n",
    "from numbers import Number\n",
    "\n",
    "from spn_case_study.launch_experiment import (\n",
    "    setup_init_markings_all_choices, setup_rates_all_choices)\n",
    "from spn_case_study.run_grid_search import run_experiment, run_full_grid_search\n",
    "from spn_case_study.petrinet import PLACES, VARS, TRANS, TRANS_TO_PLACES\n",
    "from spn_tools.run_simulation import (plot_results, load_log,\n",
    "    aggregate_dataset_in_timeboxes, get_num_timeboxes_for_fixed_duration)\n",
    "import numpy as np"
   ]
  },
  {
   "cell_type": "markdown",
   "metadata": {},
   "source": [
    "## Constants"
   ]
  },
  {
   "cell_type": "code",
   "execution_count": 2,
   "metadata": {},
   "outputs": [],
   "source": [
    "INIT_TOKEN_COUNT = 1000\n",
    "# Amount of independent repetitions per parameter setup\n",
    "NUM_REPETITIONS = 50\n",
    "\n",
    "# Maximum of discrete transition-firings per simulation run\n",
    "MAX_NUM_TRANSITIONS = 10000\n",
    "# Maximum amount of simulated time passed before simulation is terminated\n",
    "MAX_TIME_PASSED = 0.005"
   ]
  },
  {
   "cell_type": "markdown",
   "metadata": {},
   "source": [
    "## Directory structure\n",
    "\n",
    "All files should be saved into `main_exp_data`.\n",
    "This contains 3 subdirectories:\n",
    "* `const_unbind_rates`: for experiments that fix $x_3$ and $x_4$,\n",
    "    but try many different values for $x_1$ and $x_2$.\n",
    "    Contains, for each value $x_3 = CCCC$ \n",
    "    and each value of $x_4 = DDDD$\n",
    "    a subdirectory `x3_CCCC__x4_DDDD`.\n",
    "    Each such subdirecory contains a directory\n",
    "    for each variation of $x_1 = AAAA$ and $x_2 = BBBB$,\n",
    "    e.g., `x1_123e-4__x2_321e-2`.\n",
    "* `vary_unbind_rates`: same as `const_unbind_rates`,\n",
    "    but with $(x_3, x_4)$ swapped with $(x_1, x_2)$.\n",
    "* `baseline`: for the single experiment that has $x_1=x_2=x_3=x_4=0$.\n",
    "    Used an unrepressed inflammation baseline \n",
    "    to assess strength of inflammation-repression.\n",
    "\n",
    "```\n",
    "main_exp_data/\n",
    "\n",
    "    const_unbind_rates/\n",
    "        x3_CCCC__x4_DDDD/\n",
    "            x1_AAAA__x2_BBBB/\n",
    "                logs.json\n",
    "                hyperparameters.json\n",
    "            .../\n",
    "        .../\n",
    "\n",
    "    vary_unbind_rates/\n",
    "        x1_AAAA__x2_BBBB/\n",
    "            x3_CCCC__x4_DDDD/\n",
    "                logs.json\n",
    "                hyperparameters.json\n",
    "            .../\n",
    "        .../\n",
    "\n",
    "    baseline/\n",
    "        logs.json\n",
    "        hyperparameters.json\n",
    "```"
   ]
  },
  {
   "cell_type": "code",
   "execution_count": 3,
   "metadata": {},
   "outputs": [
    {
     "name": "stdout",
     "output_type": "stream",
     "text": [
      "Current directory: /home/nifrec/Vault/Documents/master_1/bio_modelling/model_ass/snakes_spn/spn_case_study\n"
     ]
    }
   ],
   "source": [
    "MAIN_DIR_NAME = \"main_exp_dir\"\n",
    "CONST_UNBIND_DIR_NAME = \"const_unbind_rates\"\n",
    "VARYING_UNBIND_DIR_NAME = \"vary_unbind_rates\"\n",
    "BASELINE_DIR_NAME = \"baseline\"\n",
    "\n",
    "# Notebooks usually set the cwd to the directory containing the notebook itself.\n",
    "print(f\"Current directory: {os.getcwd()}\")\n",
    "if \"main_experiment.ipynb\" in os.listdir(os.getcwd()):\n",
    "    MAIN_SAVE_DIR = os.path.join(os.getcwd(), MAIN_DIR_NAME)\n",
    "else:\n",
    "    raise RuntimeError(\"Wrong working directory.\")\n",
    "\n",
    "CONST_UNBIND_SAVE_DIR = os.path.join(MAIN_SAVE_DIR, CONST_UNBIND_DIR_NAME)\n",
    "VARYING_UNBIND_SAVE_DIR = os.path.join(MAIN_SAVE_DIR, VARYING_UNBIND_DIR_NAME)\n",
    "BASELINE_SAVE_DIR = os.path.join(MAIN_DIR_NAME, BASELINE_DIR_NAME)\n",
    "\n",
    "all_subdirs = [CONST_UNBIND_SAVE_DIR, VARYING_UNBIND_SAVE_DIR,\n",
    "                BASELINE_SAVE_DIR]\n",
    "for dir_name in all_subdirs:\n",
    "    if not os.path.exists(dir_name):\n",
    "        os.makedirs(dir_name)"
   ]
  },
  {
   "cell_type": "markdown",
   "metadata": {},
   "source": [
    "## Baseline experiment"
   ]
  },
  {
   "cell_type": "code",
   "execution_count": 4,
   "metadata": {},
   "outputs": [
    {
     "name": "stdout",
     "output_type": "stream",
     "text": [
      "Data for experiment 'main_exp_dir/baseline' already exists.\n"
     ]
    },
    {
     "data": {
      "text/plain": [
       "[Text(0, 0.5, 'Neutrophil concentration'),\n",
       " Text(0.5, 1.0, 'Neutrophil recruitment without repression')]"
      ]
     },
     "execution_count": 4,
     "metadata": {},
     "output_type": "execute_result"
    },
    {
     "data": {
      "image/png": "[encoded data removed]",
      "text/plain": [
       "<Figure size 432x288 with 1 Axes>"
      ]
     },
     "metadata": {
      "needs_background": "light"
     },
     "output_type": "display_data"
    }
   ],
   "source": [
    "def check_experiment_already_done(dirname: str) -> bool:\n",
    "    \"\"\"\n",
    "    Return whether is already a data-file of experimental data\n",
    "    (a `logs.json` file) in the given directory.\n",
    "    \"\"\"\n",
    "    dir_contents = os.listdir(dirname)\n",
    "    if \"logs.json\" in dir_contents:\n",
    "        print(f\"Data for experiment '{dirname}' already exists.\")\n",
    "        return True\n",
    "    return False\n",
    "\n",
    "if not check_experiment_already_done(BASELINE_SAVE_DIR):\n",
    "    init_markings = {name: (0,) for name in PLACES}\n",
    "    init_markings[\"neutrophil_free\"] = (INIT_TOKEN_COUNT,)\n",
    "    init_markings[\"infl_sig\"] = (INIT_TOKEN_COUNT,)\n",
    "\n",
    "    rates = {name : \"0\" for name in TRANS}\n",
    "    rates[\"recruit_neutrophil\"] = f\"{VARS['infl_sig']}*{VARS['neutrophil_free']}\"\n",
    "\n",
    "    run_experiment(rates, init_markings, BASELINE_SAVE_DIR, NUM_REPETITIONS, \n",
    "                        max_steps=MAX_NUM_TRANSITIONS, max_time=MAX_TIME_PASSED)\n",
    "\n",
    "\n",
    "BASELINE_LOGS = load_log(os.path.join(BASELINE_SAVE_DIR, \"logs.json\"))\n",
    "BASELINE_NUM_TIMEBOXES = 500\n",
    "DESIRED_TIMEBOX_DURATION = MAX_TIME_PASSED/BASELINE_NUM_TIMEBOXES\n",
    "num_timeboxes = get_num_timeboxes_for_fixed_duration(BASELINE_LOGS, \n",
    "                                        DESIRED_TIMEBOX_DURATION)\n",
    "x_var = \"time\"\n",
    "y_vars = [\"neutrophil_free\", \"neutrophil_inflaming\"]\n",
    "ax = plot_results(BASELINE_LOGS, x_var, y_vars, \n",
    "             num_timeboxes, interval_type=\"min_max\")\n",
    "ax.set(ylabel=\"Neutrophil concentration\",\n",
    "    title=\"Neutrophil recruitment without repression\")"
   ]
  },
  {
   "cell_type": "markdown",
   "metadata": {},
   "source": [
    "### Comparison point\n",
    "So judge the strength of inflammation-repression,\n",
    "it is only fair to measure the inflammation strength\n",
    "after **a fixes amount of simulated time passed**.\n",
    "Fix this time to be the time after which half\n",
    "the neutrophils have been recruited in the unrepressed case:"
   ]
  },
  {
   "cell_type": "code",
   "execution_count": 8,
   "metadata": {},
   "outputs": [
    {
     "name": "stdout",
     "output_type": "stream",
     "text": [
      "0.0006859455823488908\n"
     ]
    }
   ],
   "source": [
    "baseline_neutrophil_means, timebox_duration = \\\n",
    "    aggregate_dataset_in_timeboxes(BASELINE_LOGS, x_var=\"time\",\n",
    "        y_vars=[\"neutrophil_inflaming\"], \n",
    "        num_timeboxes=BASELINE_NUM_TIMEBOXES)\n",
    "baseline_neutrophil_means = \\\n",
    "    np.mean(baseline_neutrophil_means[\"neutrophil_inflaming\"], axis=0)\n",
    "i = 0\n",
    "while baseline_neutrophil_means[i] < INIT_TOKEN_COUNT//2:\n",
    "    i+=1\n",
    "COMPARISON_TIMESTAMP = timebox_duration*i\n",
    "print(COMPARISON_TIMESTAMP)"
   ]
  },
  {
   "cell_type": "markdown",
   "metadata": {},
   "source": [
    "## First experiment: $x_3, x_4$ fixed\n",
    "\n",
    "Values to try:\n",
    "* $x_1 \\in [10, 100, 1000, 2000, 3000] = [GbPdn]$\n",
    "* $x_2 \\in [0.001, 0.01, 1, 10, 100] = $ `CLEAVE_CONST`"
   ]
  },
  {
   "cell_type": "code",
   "execution_count": 5,
   "metadata": {},
   "outputs": [],
   "source": [
    "# The ratio PDN_BIND_CONST-GBPDN_BIND_CONST is of interest.\n",
    "# the absolute values would seem less relevant -- so fix this at 1:\n",
    "PDN_BIND_CONST = 1\n",
    "# It is given by the case-study provider that it is a 1000 times lower.\n",
    "GBPDN_BIND_CONST = PDN_BIND_CONST/1000\n",
    "# See the experiment `tune_inflam_repress_rate.ipynb`\n",
    "# for the tuning of the inflammation-repression rate constant:\n",
    "REPRESS_INFL_CONST = 10 \n",
    "# Was fixed to this value while tuning the above:\n",
    "NEUTROPHIL_RECRUIT_CONST = 1\n",
    "CLEAVE_CONST = (0.001, 0.01, 1, 10, 100)\n",
    "\n",
    "def setup_init_markings() -> dict[str, Sequence[int]]:\n",
    "    init_markings = {name: (0,) for name in PLACES}\n",
    "    init_markings[\"gba2\"] = (1000,)\n",
    "    init_markings[\"gbpdn\"] = (10, 100, 1000, 2000, 3000)\n",
    "    init_markings[\"neutrophil_free\"] = (1000,)\n",
    "    init_markings[\"gr_free\"] = (1000,)\n",
    "    init_markings[\"infl_sig\"] = (1000,)\n",
    "    return init_markings\n",
    "\n",
    "def setup_rates() -> dict[str, Sequence[str]]:\n",
    "    rates = {trans_name : (\"0\",) for trans_name in TRANS}\n",
    "    rates[\"cleave\"] = [\n",
    "        f\"{cleave_rate}*{VARS['gba2']}*{VARS['gbpdn']}\"\n",
    "        for cleave_rate in CLEAVE_CONST]\n",
    "\n",
    "    # Binding -- Mass Action\n",
    "    rates[\"bind_pdn\"] = (f\"{PDN_BIND_CONST}*{VARS['pdn']}*{VARS['gr_free']}\",)\n",
    "    rates[\"bind_gbpdn\"] = (f\"{GBPDN_BIND_CONST}*{VARS['gbpdn']}*{VARS['gr_free']}\",)\n",
    "\n",
    "    rates[\"repress_infl\"] = (f\"{REPRESS_INFL_CONST} * {VARS['gr_pdn']}\",)\n",
    "    rates[\"recruit_neutrophil\"] = (f\"{NEUTROPHIL_RECRUIT_CONST}*\"\n",
    "        + f\"{VARS['neutrophil_free']}*{VARS['infl_sig']}\",        \n",
    "    )\n",
    "    return rates"
   ]
  },
  {
   "cell_type": "code",
   "execution_count": 6,
   "metadata": {},
   "outputs": [
    {
     "name": "stdout",
     "output_type": "stream",
     "text": [
      "Starting experiment 0\n"
     ]
    },
    {
     "ename": "FileExistsError",
     "evalue": "[Errno 17] File exists: '/home/nifrec/Vault/Documents/master_1/bio_modelling/model_ass/snakes_spn/spn_case_study/main_exp_dir/const_unbind_rates/x3_0__x4_0/exp_0'",
     "output_type": "error",
     "traceback": [
      "\u001b[0;31m---------------------------------------------------------------------------\u001b[0m",
      "\u001b[0;31mFileExistsError\u001b[0m                           Traceback (most recent call last)",
      "\u001b[1;32m/home/nifrec/documents/master_1/bio_modelling/model_ass/snakes_spn/spn_case_study/main_experiment.ipynb Cell 11'\u001b[0m in \u001b[0;36m<cell line: 6>\u001b[0;34m()\u001b[0m\n\u001b[1;32m      <a href='vscode-notebook-cell:/home/nifrec/documents/master_1/bio_modelling/model_ass/snakes_spn/spn_case_study/main_experiment.ipynb#ch0000010?line=2'>3</a>\u001b[0m \u001b[39mif\u001b[39;00m \u001b[39mnot\u001b[39;00m os\u001b[39m.\u001b[39mpath\u001b[39m.\u001b[39mexists(subdir_path):\n\u001b[1;32m      <a href='vscode-notebook-cell:/home/nifrec/documents/master_1/bio_modelling/model_ass/snakes_spn/spn_case_study/main_experiment.ipynb#ch0000010?line=3'>4</a>\u001b[0m     os\u001b[39m.\u001b[39mmkdir(subdir_path)\n\u001b[0;32m----> <a href='vscode-notebook-cell:/home/nifrec/documents/master_1/bio_modelling/model_ass/snakes_spn/spn_case_study/main_experiment.ipynb#ch0000010?line=5'>6</a>\u001b[0m run_full_grid_search(setup_rates(), setup_init_markings(), subdir_path, \n\u001b[1;32m      <a href='vscode-notebook-cell:/home/nifrec/documents/master_1/bio_modelling/model_ass/snakes_spn/spn_case_study/main_experiment.ipynb#ch0000010?line=6'>7</a>\u001b[0m                      NUM_REPETITIONS, max_steps\u001b[39m=\u001b[39;49mMAX_NUM_TRANSITIONS, \n\u001b[1;32m      <a href='vscode-notebook-cell:/home/nifrec/documents/master_1/bio_modelling/model_ass/snakes_spn/spn_case_study/main_experiment.ipynb#ch0000010?line=7'>8</a>\u001b[0m                      max_time\u001b[39m=\u001b[39;49mMAX_TIME_PASSED)\n",
      "File \u001b[0;32m~/Vault/Documents/master_1/bio_modelling/model_ass/snakes_spn/spn_case_study/run_grid_search.py:117\u001b[0m, in \u001b[0;36mrun_full_grid_search\u001b[0;34m(rates_all_choices, init_markings_all_choices, top_level_save_dir, num_repetitions, max_steps, max_time, exp_dir_names)\u001b[0m\n\u001b[1;32m    <a href='file:///home/nifrec/Vault/Documents/master_1/bio_modelling/model_ass/snakes_spn/spn_case_study/run_grid_search.py?line=113'>114</a>\u001b[0m     dirname \u001b[39m=\u001b[39m \u001b[39mf\u001b[39m\u001b[39m\"\u001b[39m\u001b[39mexp_\u001b[39m\u001b[39m{\u001b[39;00mexp_idx\u001b[39m}\u001b[39;00m\u001b[39m\"\u001b[39m\n\u001b[1;32m    <a href='file:///home/nifrec/Vault/Documents/master_1/bio_modelling/model_ass/snakes_spn/spn_case_study/run_grid_search.py?line=115'>116</a>\u001b[0m full_dirname \u001b[39m=\u001b[39m os\u001b[39m.\u001b[39mpath\u001b[39m.\u001b[39mjoin(top_level_save_dir, dirname)\n\u001b[0;32m--> <a href='file:///home/nifrec/Vault/Documents/master_1/bio_modelling/model_ass/snakes_spn/spn_case_study/run_grid_search.py?line=116'>117</a>\u001b[0m os\u001b[39m.\u001b[39;49mmkdir(full_dirname)\n\u001b[1;32m    <a href='file:///home/nifrec/Vault/Documents/master_1/bio_modelling/model_ass/snakes_spn/spn_case_study/run_grid_search.py?line=117'>118</a>\u001b[0m run_experiment(rates, init_markings, full_dirname, num_repetitions, \n\u001b[1;32m    <a href='file:///home/nifrec/Vault/Documents/master_1/bio_modelling/model_ass/snakes_spn/spn_case_study/run_grid_search.py?line=118'>119</a>\u001b[0m                max_steps, max_time)\n\u001b[1;32m    <a href='file:///home/nifrec/Vault/Documents/master_1/bio_modelling/model_ass/snakes_spn/spn_case_study/run_grid_search.py?line=119'>120</a>\u001b[0m exp_idx\u001b[39m+\u001b[39m\u001b[39m=\u001b[39m\u001b[39m1\u001b[39m\n",
      "\u001b[0;31mFileExistsError\u001b[0m: [Errno 17] File exists: '/home/nifrec/Vault/Documents/master_1/bio_modelling/model_ass/snakes_spn/spn_case_study/main_exp_dir/const_unbind_rates/x3_0__x4_0/exp_0'"
     ]
    }
   ],
   "source": [
    "subdir_name = \"x3_0__x4_0\"\n",
    "subdir_path = os.path.join(CONST_UNBIND_SAVE_DIR, subdir_name)\n",
    "if not os.path.exists(subdir_path):\n",
    "    os.mkdir(subdir_path)\n",
    "\n",
    "if not os.path.exists(os.path.join(subdir_path, \"exp_0\")):\n",
    "    run_full_grid_search(setup_rates(), setup_init_markings(), subdir_path, \n",
    "                        NUM_REPETITIONS, max_steps=MAX_NUM_TRANSITIONS, \n",
    "                        max_time=MAX_TIME_PASSED)"
   ]
  },
  {
   "cell_type": "code",
   "execution_count": null,
   "metadata": {},
   "outputs": [],
   "source": []
  }
 ],
 "metadata": {
  "interpreter": {
   "hash": "e7370f93d1d0cde622a1f8e1c04877d8463912d04d973331ad4851f04de6915a"
  },
  "kernelspec": {
   "display_name": "Python 3.10.4 64-bit",
   "language": "python",
   "name": "python3"
  },
  "language_info": {
   "codemirror_mode": {
    "name": "ipython",
    "version": 3
   },
   "file_extension": ".py",
   "mimetype": "text/x-python",
   "name": "python",
   "nbconvert_exporter": "python",
   "pygments_lexer": "ipython3",
   "version": "3.10.4"
  },
  "orig_nbformat": 4
 },
 "nbformat": 4,
 "nbformat_minor": 2
}
