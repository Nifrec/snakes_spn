{
 "cells": [
  {
   "cell_type": "markdown",
   "metadata": {},
   "source": [
    "**Author**: Lulof Pirée\n",
    "\n",
    "**Date**: June 2022\n",
    "\n",
    "--------------------------------------------------------------------------------\n",
    "Copyright (C) 2022 Lulof Pirée\n",
    "\n",
    "This file is part of the snakes_spn program.\n",
    "\n",
    "This program is free software:\n",
    "you can redistribute it and/or modify it under the terms\n",
    "of the GNU General Public License as published by the Free Software Foundation,\n",
    "either version 3 of the License, or (at your option) any later version.\n",
    "\n",
    "This program is distributed in the hope that it will be useful,\n",
    "but WITHOUT ANY WARRANTY;\n",
    "without even the implied warranty of MERCHANTABILITY\n",
    "or FITNESS FOR A PARTICULAR PURPOSE.\n",
    "See the GNU General Public License for more details.\n",
    "\n",
    "You should have received a copy of the GNU General Public License\n",
    "along with this program.\n",
    "If not, see <https://www.gnu.org/licenses/>.\n",
    "\n",
    "--------------------------------------------------------------------------------\n",
    "## File content\n",
    "Second pre-study: finding an appropriate rate-constant\n",
    "for the repression of the inflammation by Gr*,\n",
    "under the assumption that the repression is strong with maximal Gr*."
   ]
  },
  {
   "cell_type": "code",
   "execution_count": 1,
   "metadata": {},
   "outputs": [
    {
     "name": "stdout",
     "output_type": "stream",
     "text": [
      "Current directory: /home/nifrec/Vault/Documents/master_1/bio_modelling/model_ass/snakes_spn/spn_case_study\n"
     ]
    }
   ],
   "source": [
    "import os\n",
    "import matplotlib.pyplot as plt\n",
    "from matplotlib.axes import Axes\n",
    "from scipy import stats\n",
    "import math\n",
    "from numbers import Number\n",
    "\n",
    "from spn_case_study.launch_experiment import (\n",
    "    setup_init_markings_all_choices, setup_rates_all_choices)\n",
    "from spn_case_study.run_grid_search import run_experiment\n",
    "from spn_case_study.petrinet import PLACES, VARS, TRANS, TRANS_TO_PLACES\n",
    "from spn_tools.run_simulation import (plot_results, load_log,\n",
    "    aggregate_dataset_in_timeboxes, get_num_timeboxes_for_fixed_duration,\n",
    "    get_max_timestamp)\n",
    "import numpy as np\n",
    "\n",
    "SAVEDIR_NAME = \"tune_inflam_repress_rate_data\"\n",
    "\n",
    "NUM_REPETITIONS = 200\n",
    "MAX_NUM_TRANSITIONS = float(\"inf\")\n",
    "MAX_TIME_PASSED = 0.005\n",
    "# Different constants to try\n",
    "REPRESSION_RATE_CONSTANTS = [0, 0.01, 1, 2.5, 5, 10]\n",
    "# One token represents 0.1% of the starting amount.\n",
    "INIT_TOKEN_COUNT = 1000 \n",
    "\n",
    "# Notebooks usually set the cwd to the directory containing the notebook itself.\n",
    "print(f\"Current directory: {os.getcwd()}\")\n",
    "if \"tune_inflam_repress_rate.ipynb\" in os.listdir(os.getcwd()):\n",
    "    SAVE_DIR = os.path.join(os.getcwd(), SAVEDIR_NAME)\n",
    "else:\n",
    "    raise RuntimeError(\"Wrong working directory.\")"
   ]
  },
  {
   "cell_type": "markdown",
   "metadata": {},
   "source": [
    "## Experiment\n",
    "Initially, we set:\n",
    "* $[Gr*] = [\\text{Free Neutrophils}] = [\\text{inflammation signals}] = 1000$,\n",
    "    and 0 for all other places.\n",
    "* The rate-function for recruiting neutrophils is simply given\n",
    "    as $f() = [\\text{Free Neutrophils}] \\times [\\text{inflammation signals}]$.\n"
   ]
  },
  {
   "cell_type": "code",
   "execution_count": 2,
   "metadata": {},
   "outputs": [
    {
     "name": "stdout",
     "output_type": "stream",
     "text": [
      "Experiment data already present, skipping experiment.\n",
      "Experiment data already present, skipping experiment.\n",
      "Experiment data already present, skipping experiment.\n",
      "Experiment data already present, skipping experiment.\n",
      "Experiment data already present, skipping experiment.\n",
      "Experiment data already present, skipping experiment.\n"
     ]
    }
   ],
   "source": [
    "def run_tuning_experiment():\n",
    "    init_markings = setup_markings()\n",
    "    for rate_const in REPRESSION_RATE_CONSTANTS:\n",
    "        RATE_AS_DIRNAME = rate_const_to_dirname(rate_const)\n",
    "        SUBDIR_NAME = os.path.join(SAVE_DIR, RATE_AS_DIRNAME)\n",
    "        rates = setup_rates(rate_const)\n",
    "\n",
    "        log_filename = os.path.join(SUBDIR_NAME, \"logs.json\")\n",
    "        if not os.path.exists(log_filename):\n",
    "            run_experiment(rates, init_markings, SUBDIR_NAME, NUM_REPETITIONS, \n",
    "                        max_steps=MAX_NUM_TRANSITIONS, max_time=MAX_TIME_PASSED)\n",
    "        else:\n",
    "            print(\"Experiment data already present, skipping experiment.\")\n",
    "    \n",
    "def rate_const_to_dirname(rate_const: int | float) -> str:\n",
    "        # Convert the rate to scientific notation, without a '.' or a '+'.\n",
    "        # Then it is safe to use as a directory name.\n",
    "        return f\"rate_{rate_const:.0e}\".replace(\"+\", \"\")\n",
    "\n",
    "def setup_markings() -> dict[str, tuple[int]]:\n",
    "    init_markings = {name: (0,) for name in PLACES}\n",
    "    init_markings[\"neutrophil_free\"] = (INIT_TOKEN_COUNT,)\n",
    "    init_markings[\"infl_sig\"] = (INIT_TOKEN_COUNT,)\n",
    "    init_markings[\"gr_pdn\"] = (INIT_TOKEN_COUNT,)\n",
    "    return init_markings\n",
    "\n",
    "\n",
    "def setup_rates(repress_rate_const: float | int) -> dict[str, str]:\n",
    "    rates = {name : \"0\" for name in TRANS}\n",
    "    rates[\"recruit_neutrophil\"] = f\"{VARS['infl_sig']} * {VARS['neutrophil_free']}\"\n",
    "    rates[\"repress_infl\"] = f\"{repress_rate_const} * {VARS['infl_sig']} * {VARS['gr_pdn']}\"\n",
    "    return rates\n",
    "\n",
    "\n",
    "\n",
    "run_tuning_experiment()"
   ]
  },
  {
   "cell_type": "markdown",
   "metadata": {},
   "source": [
    "## Unrepressed baseline\n",
    "Find $t$, the timestamp after which half of the neutrophils\n",
    "has been recruited, when no repression is applied ($[Gr*]=0$)."
   ]
  },
  {
   "cell_type": "code",
   "execution_count": 3,
   "metadata": {},
   "outputs": [
    {
     "data": {
      "text/plain": [
       "[Text(0, 0.5, 'Neutrophil concentration'),\n",
       " Text(0.5, 1.0, 'Neutrophil recruitment without repression')]"
      ]
     },
     "execution_count": 3,
     "metadata": {},
     "output_type": "execute_result"
    },
    {
     "data": {
      "image/png": "[encoded data removed]",
      "text/plain": [
       "<Figure size 432x288 with 1 Axes>"
      ]
     },
     "metadata": {
      "needs_background": "light"
     },
     "output_type": "display_data"
    }
   ],
   "source": [
    "baseline_log = load_log(os.path.join(SAVEDIR_NAME, rate_const_to_dirname(0),\n",
    "    \"logs.json\"))\n",
    "\n",
    "BASELINE_NUM_TIMEBOXES = 500\n",
    "DESIRED_TIMEBOX_DURATION = MAX_TIME_PASSED/BASELINE_NUM_TIMEBOXES\n",
    "num_timeboxes = get_num_timeboxes_for_fixed_duration(baseline_log, \n",
    "                                        DESIRED_TIMEBOX_DURATION)\n",
    "x_var = \"time\"\n",
    "y_vars = [\"neutrophil_free\", \"neutrophil_inflaming\"]\n",
    "ax = plot_results(baseline_log, x_var, y_vars, \n",
    "             num_timeboxes, interval_type=\"min_max\")\n",
    "ax.set(ylabel=\"Neutrophil concentration\",\n",
    "    title=\"Neutrophil recruitment without repression\")"
   ]
  },
  {
   "cell_type": "code",
   "execution_count": 4,
   "metadata": {},
   "outputs": [],
   "source": [
    "baseline_aggregated, timebox_duration = aggregate_dataset_in_timeboxes(\n",
    "    baseline_log, \"time\", [\"neutrophil_inflaming\"], num_timeboxes)\n",
    "# Average out over independent runs\n",
    "baseline_aggregated = np.mean(baseline_aggregated[\"neutrophil_inflaming\"], axis=0)"
   ]
  },
  {
   "cell_type": "code",
   "execution_count": 5,
   "metadata": {},
   "outputs": [
    {
     "name": "stdout",
     "output_type": "stream",
     "text": [
      "Half of neutrophils recruited after 0.0006903601 time.\n"
     ]
    }
   ],
   "source": [
    "curr_timebox_idx = 0\n",
    "target_concentration = INIT_TOKEN_COUNT//2\n",
    "while baseline_aggregated[curr_timebox_idx] < target_concentration:\n",
    "    curr_timebox_idx += 1\n",
    "\n",
    "TARGET_TIMESTAMP = curr_timebox_idx*timebox_duration\n",
    "print(f\"Half of neutrophils recruited after \"\n",
    "      f\"{curr_timebox_idx*timebox_duration:.10f} time.\")"
   ]
  },
  {
   "cell_type": "markdown",
   "metadata": {},
   "source": [
    "## Main experiment\n",
    "Plot the amount of neutrophils after $t$ time (see value above)\n",
    "for different repression rates.\n",
    "The least rate that achieves good repression would\n",
    "probably the best choice for the model."
   ]
  },
  {
   "cell_type": "code",
   "execution_count": 6,
   "metadata": {},
   "outputs": [
    {
     "name": "stdout",
     "output_type": "stream",
     "text": [
      "Rate = 0e+00\n",
      "\tMax time: 0.00574\n",
      "\tNum timeboxes: 696\n",
      "\tTimebox duration: 0.00001\n",
      "\tTarget timebox index: 69\n",
      "\n",
      "Rate = 1e-02\n",
      "\tMax time: 0.00502\n",
      "\tNum timeboxes: 538\n",
      "\tTimebox duration: 0.00001\n",
      "\tTarget timebox index: 69\n",
      "\n",
      "Rate = 1e+00\n",
      "\tMax time: 0.00507\n",
      "\tNum timeboxes: 624\n",
      "\tTimebox duration: 0.00001\n",
      "\tTarget timebox index: 69\n",
      "\n",
      "Rate = 2e+00\n",
      "\tMax time: 0.00277\n",
      "\tNum timeboxes: 476\n",
      "\tTimebox duration: 0.00001\n",
      "\tTarget timebox index: 69\n",
      "\n",
      "Rate = 5e+00\n",
      "\tMax time: 0.00127\n",
      "\tNum timeboxes: 260\n",
      "\tTimebox duration: 0.00001\n",
      "\tTarget timebox index: 69\n",
      "\n",
      "Rate = 1e+01\n",
      "\tMax time: 0.00059\n",
      "\tNum timeboxes: 124\n",
      "\tTimebox duration: 0.00001\n",
      "\tTarget timebox index: 68\n",
      "\n"
     ]
    },
    {
     "name": "stderr",
     "output_type": "stream",
     "text": [
      "/tmp/ipykernel_5566/2549438228.py:36: UserWarning: FixedFormatter should only be used together with FixedLocator\n",
      "  ax.set(\n"
     ]
    },
    {
     "data": {
      "image/png": "[encoded data removed]",
      "text/plain": [
       "<Figure size 504x360 with 1 Axes>"
      ]
     },
     "metadata": {
      "needs_background": "light"
     },
     "output_type": "display_data"
    }
   ],
   "source": [
    "fig, ax = plt.subplots(figsize=(7,5))\n",
    "\n",
    "\n",
    "bar_heights = []\n",
    "# List of observed means in the target timebox, one value for for each run.\n",
    "# One such list for each rate-constant-value.\n",
    "# Used for running a t-test.\n",
    "measurements_per_rate : dict[float, list[float]] = {}\n",
    "\n",
    "for rate_const in REPRESSION_RATE_CONSTANTS:\n",
    "        log_dirname = rate_const_to_dirname(rate_const)\n",
    "        log_filename = os.path.join(SAVE_DIR, log_dirname, \"logs.json\")\n",
    "        log = load_log(log_filename)\n",
    "        print(f\"Rate = {rate_const:.0e}\\n\\tMax time: {max(log[0]['time']):0.5f}\")\n",
    "        num_timeboxes = get_num_timeboxes_for_fixed_duration(log, DESIRED_TIMEBOX_DURATION)\n",
    "        print(f\"\\tNum timeboxes: {num_timeboxes}\")\n",
    "        timeboxed_neutrophils, timebox_duration = aggregate_dataset_in_timeboxes(\n",
    "                log, \"time\", [\"neutrophil_inflaming\"], num_timeboxes)\n",
    "        print(f\"\\tTimebox duration: {timebox_duration:.5f}\")\n",
    "        # Average out over independent runs\n",
    "        av_neutrophils_per_timebox = np.mean(\n",
    "                timeboxed_neutrophils[\"neutrophil_inflaming\"], axis=0)\n",
    "\n",
    "        target_timebox = math.floor(TARGET_TIMESTAMP/timebox_duration)\n",
    "        print(f\"\\tTarget timebox index: {target_timebox}\")\n",
    "        bar_heights.append(av_neutrophils_per_timebox[target_timebox])\n",
    "        print(\"\")\n",
    "\n",
    "        measurements_per_rate[rate_const] = list(\n",
    "                means_per_timebox[target_timebox]\n",
    "                for means_per_timebox in\n",
    "                timeboxed_neutrophils[\"neutrophil_inflaming\"])\n",
    "\n",
    "ax.bar([1+x for x in range(len(REPRESSION_RATE_CONSTANTS))], bar_heights,\n",
    "        color=\"cyan\")\n",
    "ax.set(\n",
    "        xticklabels = [\"\"]+REPRESSION_RATE_CONSTANTS,\n",
    "        xlabel=\"$K_1$: suppression-rate constant\",\n",
    "        ylabel=f\"Neutrophils recruited at time $t={TARGET_TIMESTAMP:.0e}$\",\n",
    "        title=\"Recruited Neutrophils after fixed time as function of $k_1$\"\n",
    ");\n",
    "fig.savefig(os.path.join(SAVEDIR_NAME, \"repression_rate_effects.pdf\"))"
   ]
  },
  {
   "cell_type": "markdown",
   "metadata": {},
   "source": [
    "## Conclusion\n",
    "\n",
    "A rate constant of 2.5 does not reduce the number of recruited neutrophils by half.\n",
    "A constant of 5 reduces the neutrophils at time $t$ by approximately 60-65%.\n",
    "For the constant 10, the reduction is approximately 80%.\n",
    "Hence the constant 10 seems a plausible choice.\n",
    "\n",
    "As a final test, it may be wise to ensure that\n",
    "the observed differences are not due to chance\n",
    "(the differences seem way too huge for chance, given there are 200\n",
    "independent runs, but let's check for sure anyway:)"
   ]
  },
  {
   "cell_type": "code",
   "execution_count": 7,
   "metadata": {},
   "outputs": [
    {
     "data": {
      "text/plain": [
       "WilcoxonResult(statistic=0.0, pvalue=1.431501504129357e-34)"
      ]
     },
     "execution_count": 7,
     "metadata": {},
     "output_type": "execute_result"
    }
   ],
   "source": [
    "stats.wilcoxon(measurements_per_rate[0], measurements_per_rate[10])"
   ]
  }
 ],
 "metadata": {
  "interpreter": {
   "hash": "e7370f93d1d0cde622a1f8e1c04877d8463912d04d973331ad4851f04de6915a"
  },
  "kernelspec": {
   "display_name": "Python 3.10.4 64-bit",
   "language": "python",
   "name": "python3"
  },
  "language_info": {
   "codemirror_mode": {
    "name": "ipython",
    "version": 3
   },
   "file_extension": ".py",
   "mimetype": "text/x-python",
   "name": "python",
   "nbconvert_exporter": "python",
   "pygments_lexer": "ipython3",
   "version": "3.10.4"
  },
  "orig_nbformat": 4
 },
 "nbformat": 4,
 "nbformat_minor": 2
}
