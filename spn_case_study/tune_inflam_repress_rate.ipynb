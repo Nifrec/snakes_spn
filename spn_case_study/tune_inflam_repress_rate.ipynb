{
 "cells": [
  {
   "cell_type": "markdown",
   "metadata": {},
   "source": [
    "**Author**: Lulof Pirée\n",
    "\n",
    "**Date**: June 2022\n",
    "\n",
    "--------------------------------------------------------------------------------\n",
    "Copyright (C) 2022 Lulof Pirée\n",
    "\n",
    "This file is part of the snakes_spn program.\n",
    "\n",
    "This program is free software:\n",
    "you can redistribute it and/or modify it under the terms\n",
    "of the GNU General Public License as published by the Free Software Foundation,\n",
    "either version 3 of the License, or (at your option) any later version.\n",
    "\n",
    "This program is distributed in the hope that it will be useful,\n",
    "but WITHOUT ANY WARRANTY;\n",
    "without even the implied warranty of MERCHANTABILITY\n",
    "or FITNESS FOR A PARTICULAR PURPOSE.\n",
    "See the GNU General Public License for more details.\n",
    "\n",
    "You should have received a copy of the GNU General Public License\n",
    "along with this program.\n",
    "If not, see <https://www.gnu.org/licenses/>.\n",
    "\n",
    "--------------------------------------------------------------------------------\n",
    "## File content\n",
    "Second pre-study: finding an appropriate rate-constant\n",
    "for the repression of the inflammation by Gr*,\n",
    "under the assumption that the repression is strong with maximal Gr*."
   ]
  },
  {
   "cell_type": "code",
   "execution_count": 1,
   "metadata": {},
   "outputs": [
    {
     "name": "stdout",
     "output_type": "stream",
     "text": [
      "Current directory: /home/nifrec/Vault/Documents/master_1/bio_modelling/model_ass/snakes_spn/spn_case_study\n"
     ]
    }
   ],
   "source": [
    "import os\n",
    "import matplotlib.pyplot as plt\n",
    "from matplotlib.axes import Axes\n",
    "from scipy import stats\n",
    "\n",
    "from spn_case_study.launch_experiment import (\n",
    "    setup_init_markings_all_choices, setup_rates_all_choices)\n",
    "from spn_case_study.run_grid_search import run_experiment\n",
    "from spn_case_study.petrinet import PLACES, VARS, TRANS, TRANS_TO_PLACES\n",
    "from spn_tools.run_simulation import (plot_results, load_log,\n",
    "    aggregate_dataset_in_timeboxes)\n",
    "import numpy as np\n",
    "\n",
    "SAVEDIR_NAME = \"tune_inflam_repress_rate_data\"\n",
    "\n",
    "NUM_REPETITIONS = 1 #200\n",
    "MAX_NUM_TRANSITIONS = 1500\n",
    "MAX_TIME_PASSED = 5\n",
    "# Different constants to try\n",
    "REPRESSION_RATE_CONSTANTS = [0, 0.0001, 0.01, 1, 100, 1000]\n",
    "INIT_TOKEN_COUNT = 1000 # One token represents 0.1% of the starting amount.\n",
    "\n",
    "# Notebooks usually set the cwd to the directory containing the notebook itself.\n",
    "print(f\"Current directory: {os.getcwd()}\")\n",
    "if \"tune_inflam_repress_rate.ipynb\" in os.listdir(os.getcwd()):\n",
    "    SAVE_DIR = os.path.join(os.getcwd(), SAVEDIR_NAME)\n",
    "else:\n",
    "    raise RuntimeError(\"Wrong working directory.\")"
   ]
  },
  {
   "cell_type": "markdown",
   "metadata": {},
   "source": [
    "## Experiment\n",
    "Initially, we set:\n",
    "* $[Gr*] = [\\text{Free Neutrophils}] = [\\text{inflammation signals}] = 1000$,\n",
    "    and 0 for all other places.\n",
    "* The rate-function for recruiting neutrophils is simply given\n",
    "    as $f() = [\\text{Free Neutrophils}] \\times [\\text{inflammation signals}]$.\n"
   ]
  },
  {
   "cell_type": "code",
   "execution_count": 2,
   "metadata": {},
   "outputs": [
    {
     "name": "stdout",
     "output_type": "stream",
     "text": [
      "Starting repeated experiment with 1 repetitions.\n",
      "Finished repetition 1/1\n",
      "All repetitions completed\n",
      "Starting repeated experiment with 1 repetitions.\n",
      "Finished repetition 1/1\n",
      "All repetitions completed\n",
      "Starting repeated experiment with 1 repetitions.\n",
      "Finished repetition 1/1\n",
      "All repetitions completed\n",
      "Starting repeated experiment with 1 repetitions.\n",
      "Finished repetition 1/1\n",
      "All repetitions completed\n",
      "Starting repeated experiment with 1 repetitions.\n",
      "Finished repetition 1/1\n",
      "All repetitions completed\n",
      "Starting repeated experiment with 1 repetitions.\n",
      "Finished repetition 1/1\n",
      "All repetitions completed\n"
     ]
    }
   ],
   "source": [
    "def run_tuning_experiment():\n",
    "    init_markings = setup_markings()\n",
    "    for rate_const in REPRESSION_RATE_CONSTANTS:\n",
    "        RATE_AS_DIRNAME = rate_const_to_dirname(rate_const)\n",
    "        SUBDIR_NAME = os.path.join(SAVE_DIR, RATE_AS_DIRNAME)\n",
    "        rates = setup_rates(rate_const)\n",
    "\n",
    "        log_filename = os.path.join(SUBDIR_NAME, \"logs.json\")\n",
    "        if not os.path.exists(log_filename):\n",
    "            run_experiment(rates, init_markings, SUBDIR_NAME, NUM_REPETITIONS, \n",
    "                        max_steps=MAX_NUM_TRANSITIONS, max_time=MAX_TIME_PASSED)\n",
    "        else:\n",
    "            print(\"Experiment data already present, skipping experiment.\")\n",
    "    \n",
    "def rate_const_to_dirname(rate_const: int | float) -> str:\n",
    "        # Convert the rate to scientific notation, without a '.' or a '+'.\n",
    "        # Then it is safe to use as a directory name.\n",
    "        return f\"rate_{rate_const:.0e}\".replace(\"+\", \"\")\n",
    "\n",
    "def setup_markings() -> dict[str, tuple[int]]:\n",
    "    init_markings = {name: (0,) for name in PLACES}\n",
    "    init_markings[\"neutrophil_free\"] = (INIT_TOKEN_COUNT,)\n",
    "    init_markings[\"infl_sig\"] = (INIT_TOKEN_COUNT,)\n",
    "    init_markings[\"gr_pdn\"] = (INIT_TOKEN_COUNT,)\n",
    "    return init_markings\n",
    "\n",
    "\n",
    "def setup_rates(repress_rate_const: float | int) -> dict[str, str]:\n",
    "    rates = {name : \"0\" for name in TRANS}\n",
    "    rates[\"recruit_neutrophil\"] = f\"{VARS['infl_sig']} * {VARS['neutrophil_free']}\"\n",
    "    rates[\"repress_infl\"] = f\"{repress_rate_const} * {VARS['infl_sig']} * {VARS['gr_pdn']}\"\n",
    "    return rates\n",
    "\n",
    "run_tuning_experiment()"
   ]
  },
  {
   "cell_type": "code",
   "execution_count": 3,
   "metadata": {},
   "outputs": [
    {
     "data": {
      "text/plain": [
       "[Text(0, 0.5, 'Neutrophil concentration')]"
      ]
     },
     "execution_count": 3,
     "metadata": {},
     "output_type": "execute_result"
    },
    {
     "data": {
      "image/png": "[encoded data removed]",
      "text/plain": [
       "<Figure size 432x288 with 1 Axes>"
      ]
     },
     "metadata": {
      "needs_background": "light"
     },
     "output_type": "display_data"
    }
   ],
   "source": [
    "baseline_log = load_log(os.path.join(SAVEDIR_NAME, rate_const_to_dirname(0),\n",
    "    \"logs.json\"))\n",
    "num_timeboxes = MAX_NUM_TRANSITIONS//2\n",
    "x_var = \"time\"\n",
    "y_vars = [\"neutrophil_free\", \"neutrophil_inflaming\"]\n",
    "ax = plot_results(baseline_log, x_var, y_vars, \n",
    "             num_timeboxes, interval_type=\"min_max\")\n",
    "ax.set(ylabel=\"Neutrophil concentration\")"
   ]
  }
 ],
 "metadata": {
  "interpreter": {
   "hash": "e7370f93d1d0cde622a1f8e1c04877d8463912d04d973331ad4851f04de6915a"
  },
  "kernelspec": {
   "display_name": "Python 3.10.4 64-bit",
   "language": "python",
   "name": "python3"
  },
  "language_info": {
   "codemirror_mode": {
    "name": "ipython",
    "version": 3
   },
   "file_extension": ".py",
   "mimetype": "text/x-python",
   "name": "python",
   "nbconvert_exporter": "python",
   "pygments_lexer": "ipython3",
   "version": "3.10.4"
  },
  "orig_nbformat": 4
 },
 "nbformat": 4,
 "nbformat_minor": 2
}
