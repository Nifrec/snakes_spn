{
 "cells": [
  {
   "cell_type": "markdown",
   "metadata": {},
   "source": [
    "**Author**: Lulof Pirée\n",
    "\n",
    "**Date**: May 2022\n",
    "\n",
    "--------------------------------------------------------------------------------\n",
    "Copyright (C) 2022 Lulof Pirée\n",
    "\n",
    "This file is part of the snakes_spn program.\n",
    "\n",
    "This program is free software:\n",
    "you can redistribute it and/or modify it under the terms\n",
    "of the GNU General Public License as published by the Free Software Foundation,\n",
    "either version 3 of the License, or (at your option) any later version.\n",
    "\n",
    "This program is distributed in the hope that it will be useful,\n",
    "but WITHOUT ANY WARRANTY;\n",
    "without even the implied warranty of MERCHANTABILITY\n",
    "or FITNESS FOR A PARTICULAR PURPOSE.\n",
    "See the GNU General Public License for more details.\n",
    "\n",
    "You should have received a copy of the GNU General Public License\n",
    "along with this program.\n",
    "If not, see <https://www.gnu.org/licenses/>.\n",
    "\n",
    "--------------------------------------------------------------------------------\n",
    "## File content\n",
    "Small investigation in the distribution of amount of attracted\n",
    "neutrophils under different conditions.\n",
    "The main question is whether this is approximately normally\n",
    "distributed between different runs.\n",
    "In case it is, it would be possible to use the $t$-test\n",
    "to compare different parameter setters."
   ]
  },
  {
   "cell_type": "code",
   "execution_count": 12,
   "metadata": {},
   "outputs": [
    {
     "name": "stdout",
     "output_type": "stream",
     "text": [
      "Current directory: /home/nifrec/Vault/Documents/master_1/bio_modelling/model_ass/snakes_spn/spn_case_study\n"
     ]
    }
   ],
   "source": [
    "import os\n",
    "\n",
    "from spn_case_study.launch_experiment import (\n",
    "    setup_init_markings_all_choices, setup_rates_all_choices)\n",
    "from spn_case_study.run_grid_search import run_experiment\n",
    "from spn_case_study.petrinet import PLACES, VARS, TRANS, TRANS_TO_PLACES\n",
    "from spn_tools.run_simulation import plot_results, load_log\n",
    "\n",
    "\n",
    "# Notebooks usually set the cwd to the directory containing the notebook itself.\n",
    "print(f\"Current directory: {os.getcwd()}\")\n",
    "if \"neutrophil_normality.ipynb\" in os.listdir(os.getcwd()):\n",
    "    SAVE_DIR = os.path.join(os.getcwd(), \"neutrophil_normality_data\")\n",
    "else:\n",
    "    raise RuntimeError(\"Wrong working directory.\")\n",
    "\n",
    "NUM_REPETITIONS = 50\n",
    "MAX_NUM_TRANSITIONS = 500\n",
    "MAX_TIME_PASSED = 5"
   ]
  },
  {
   "cell_type": "markdown",
   "metadata": {},
   "source": [
    "## Run 1: no inhibition.\n",
    "That is, $[Gr^*] = 0$ at all time."
   ]
  },
  {
   "cell_type": "code",
   "execution_count": 13,
   "metadata": {},
   "outputs": [
    {
     "name": "stdout",
     "output_type": "stream",
     "text": [
      "Starting repeated experiment with 50 repetitions.\n",
      "Finished repetition 1/50\n",
      "Finished repetition 2/50\n",
      "Finished repetition 3/50\n",
      "Finished repetition 4/50\n",
      "Finished repetition 5/50\n",
      "Finished repetition 6/50\n",
      "Finished repetition 7/50\n",
      "Finished repetition 8/50\n",
      "Finished repetition 9/50\n",
      "Finished repetition 10/50\n",
      "Finished repetition 11/50\n",
      "Finished repetition 12/50\n",
      "Finished repetition 13/50\n",
      "Finished repetition 14/50\n",
      "Finished repetition 15/50\n",
      "Finished repetition 16/50\n",
      "Finished repetition 17/50\n",
      "Finished repetition 18/50\n",
      "Finished repetition 19/50\n",
      "Finished repetition 20/50\n",
      "Finished repetition 21/50\n",
      "Finished repetition 22/50\n",
      "Finished repetition 23/50\n",
      "Finished repetition 24/50\n",
      "Finished repetition 25/50\n",
      "Finished repetition 26/50\n",
      "Finished repetition 27/50\n",
      "Finished repetition 28/50\n",
      "Finished repetition 29/50\n",
      "Finished repetition 30/50\n",
      "Finished repetition 31/50\n",
      "Finished repetition 32/50\n",
      "Finished repetition 33/50\n",
      "Finished repetition 34/50\n",
      "Finished repetition 35/50\n",
      "Finished repetition 36/50\n",
      "Finished repetition 37/50\n",
      "Finished repetition 38/50\n",
      "Finished repetition 39/50\n",
      "Finished repetition 40/50\n",
      "Finished repetition 41/50\n",
      "Finished repetition 42/50\n",
      "Finished repetition 43/50\n",
      "Finished repetition 44/50\n",
      "Finished repetition 45/50\n",
      "Finished repetition 46/50\n",
      "Finished repetition 47/50\n",
      "Finished repetition 48/50\n",
      "Finished repetition 49/50\n",
      "Finished repetition 50/50\n",
      "All repetitions completed\n"
     ]
    }
   ],
   "source": [
    "RUN_1_SAVE_DIR = os.path.join(SAVE_DIR, \"unrepressed\")\n",
    "init_markings = {name: (0,) for name in PLACES}\n",
    "init_markings[\"neutrophil_free\"] = (200,)\n",
    "init_markings[\"infl_sig\"] = (200,)\n",
    "\n",
    "rates = {name : \"0\" for name in TRANS}\n",
    "rates[\"recruit_neutrophil\"] = f\"{VARS['infl_sig']}\" \n",
    "\n",
    "# Filename of the json gets automatically added by `run_experiment()`,\n",
    "# but we don't want to run the experiment if the data already exists.\n",
    "log_filename = os.path.join(RUN_1_SAVE_DIR, \"logs.json\")\n",
    "if not os.path.exists(log_filename):\n",
    "    run_experiment(rates, init_markings, RUN_1_SAVE_DIR, NUM_REPETITIONS, \n",
    "                   max_steps=MAX_NUM_TRANSITIONS, max_time=MAX_TIME_PASSED)\n",
    "else:\n",
    "    print(\"Experiment data already present -- loading existing data.\")\n",
    "log = load_log(log_filename)"
   ]
  },
  {
   "cell_type": "code",
   "execution_count": 14,
   "metadata": {},
   "outputs": [
    {
     "data": {
      "text/plain": [
       "<AxesSubplot:xlabel='time'>"
      ]
     },
     "execution_count": 14,
     "metadata": {},
     "output_type": "execute_result"
    },
    {
     "data": {
      "image/png": "[encoded data removed]",
      "text/plain": [
       "<Figure size 432x288 with 1 Axes>"
      ]
     },
     "metadata": {
      "needs_background": "light"
     },
     "output_type": "display_data"
    }
   ],
   "source": [
    "plot_results(log, \"time\", [\"neutrophil_free\", \"neutrophil_inflaming\"], \n",
    "             MAX_NUM_TRANSITIONS//2, interval_type=\"min_max\")"
   ]
  }
 ],
 "metadata": {
  "interpreter": {
   "hash": "e7370f93d1d0cde622a1f8e1c04877d8463912d04d973331ad4851f04de6915a"
  },
  "kernelspec": {
   "display_name": "Python 3.10.4 64-bit",
   "language": "python",
   "name": "python3"
  },
  "language_info": {
   "codemirror_mode": {
    "name": "ipython",
    "version": 3
   },
   "file_extension": ".py",
   "mimetype": "text/x-python",
   "name": "python",
   "nbconvert_exporter": "python",
   "pygments_lexer": "ipython3",
   "version": "3.10.4"
  },
  "orig_nbformat": 4
 },
 "nbformat": 4,
 "nbformat_minor": 2
}
